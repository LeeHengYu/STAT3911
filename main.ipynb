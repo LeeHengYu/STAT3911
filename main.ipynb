{
 "cells": [
  {
   "cell_type": "code",
   "execution_count": null,
   "metadata": {},
   "outputs": [],
   "source": [
    "import yfinance as yf\n",
    "import numpy as np\n",
    "\n",
    "ticker = 'TSLA'\n",
    "\n",
    "start_date = \"2015-01-01\"\n",
    "df = yf.download(\n",
    "    ticker, \n",
    "    interval='1d',\n",
    "    # start=start_date,\n",
    "    period='10y'\n",
    ")\n",
    "df.columns = df.columns.get_level_values(0)\n",
    "df = df[['Close']] # keep only close prices\n",
    "df['return'] = df['Close'].pct_change()\n",
    "df['state'] = np.where(df['return'] >= 0, 0, 1)"
   ]
  },
  {
   "cell_type": "code",
   "execution_count": null,
   "metadata": {},
   "outputs": [],
   "source": [
    "df.to_csv('data.csv')"
   ]
  },
  {
   "cell_type": "code",
   "execution_count": 1,
   "metadata": {},
   "outputs": [],
   "source": [
    "import numpy as np\n",
    "import pandas as pd\n",
    "\n",
    "df = pd.read_csv('data.csv', index_col = 'Date')"
   ]
  },
  {
   "cell_type": "code",
   "execution_count": 2,
   "metadata": {},
   "outputs": [],
   "source": [
    "def getReturnVolatility(df, state=0, period=50): \n",
    "    if state not in df['state'].unique():\n",
    "        print('Invalid state')\n",
    "        return -1\n",
    "    local_df = df.copy()\n",
    "    local_df['segment'] = pd.qcut(range(len(local_df)), q=period, labels=False)\n",
    "\n",
    "    volatility_per_segment = local_df[local_df['state'] == state].groupby('segment')['return'].var()\n",
    "    weight = pd.Series([2**(-(period-i)) for i in range(period)])\n",
    "    return np.sqrt(volatility_per_segment.dot(weight) * 252) # convert to annual vol"
   ]
  },
  {
   "cell_type": "code",
   "execution_count": 3,
   "metadata": {},
   "outputs": [
    {
     "data": {
      "text/plain": [
       "[np.float64(0.14669682762693306), np.float64(0.1983869414748875)]"
      ]
     },
     "execution_count": 3,
     "metadata": {},
     "output_type": "execute_result"
    }
   ],
   "source": [
    "vols = [ getReturnVolatility(df, i, 100) for i in range(2) ]\n",
    "vols"
   ]
  },
  {
   "cell_type": "markdown",
   "metadata": {},
   "source": [
    "### Phase 2: building matrices"
   ]
  },
  {
   "cell_type": "code",
   "execution_count": 6,
   "metadata": {},
   "outputs": [],
   "source": [
    "import numpy as np\n",
    "import pandas as pd\n",
    "from functools import cache"
   ]
  },
  {
   "cell_type": "code",
   "execution_count": 11,
   "metadata": {},
   "outputs": [],
   "source": [
    "# generating matrix A\n",
    "n = .5\n",
    "A = np.matrix([[-n, n], [n, -n]])\n",
    "\n",
    "T = 1 # years\n",
    "N = 1000\n",
    "delta_t = T/N\n",
    "def get_markov_transition_prob(delta_t, A, max_iter=50):\n",
    "    res = np.eye(A.shape[0])\n",
    "    prev = np.eye(A.shape[0])\n",
    "    for i in range(max_iter):\n",
    "        prev = prev @ A * delta_t / (i+1)\n",
    "        res += prev\n",
    "    return res\n",
    "\n",
    "P = get_markov_transition_prob(delta_t, A)\n",
    "\n",
    "# option pricing params\n",
    "# vols = [.25, .35]\n",
    "sigma = max(vols) + (np.sqrt(1.5)-1) * np.mean(vols) # suggested by the paper\n",
    "# S0 = 100\n",
    "S0 = df['Close'].loc['2025-01-02'] # take a close price\n",
    "risk_free_int = [.04, .04] # adjustable, or make them stochastic\n",
    "\n",
    "risk_neutral_prob = { i: [-1]*3 for i in range(P.shape[0]) } # [up, mid, down]\n",
    "for i in range(P.shape[0]):\n",
    "    risk_neutral_prob[i][1] = 1 - (vols[i]/sigma) ** 2\n",
    "    risk_neutral_prob[i][0] = (np.exp(risk_free_int[i]*delta_t)- np.exp(-sigma * np.sqrt(delta_t))- \\\n",
    "                               (1-(vols[i]/sigma)**2)*(1-np.exp(-sigma * np.sqrt(delta_t))))/(np.exp(sigma * np.sqrt(delta_t)) - np.exp(-sigma * np.sqrt(delta_t)))\n",
    "    risk_neutral_prob[i][2] = (np.exp(sigma * np.sqrt(delta_t)) - np.exp(risk_free_int[i]*delta_t)- \\\n",
    "                               (1-(vols[i]/sigma)**2)*(np.exp(sigma * np.sqrt(delta_t))-1))/(np.exp(sigma * np.sqrt(delta_t)) - np.exp(-sigma * np.sqrt(delta_t)))\n",
    "\n",
    "\n",
    "def option_value(time, node, state, K):\n",
    "    \"\"\"\n",
    "    V(t,n,j) be the value of the derivative at the nth node at time step t under the jth regime state.\n",
    "    time starts from 0\n",
    "    node index starts from 1\n",
    "    \"\"\"\n",
    "    if state >= P.shape[0]:\n",
    "        raise Exception('Invalid state')\n",
    "\n",
    "    assert node <= 2 * time + 1 \n",
    "    \n",
    "    @cache\n",
    "    def V(t, n, i):\n",
    "        if t == N:\n",
    "            return max(0, S0*np.exp((n - 1 - N)*sigma*np.sqrt(delta_t))-K)\n",
    "        res = 0\n",
    "        for j in range(P.shape[0]): # regimes\n",
    "            res += P[i][j] * (risk_neutral_prob[i][0] * V(t+1, n+2, j) + risk_neutral_prob[i][1] * V(t+1, n+1, j) + risk_neutral_prob[i][2] * V(t+1, n, j))\n",
    "        return np.exp(-risk_free_int[i]*delta_t) * res\n",
    "    \n",
    "    return V(time, node, state)\n",
    "    \n"
   ]
  },
  {
   "cell_type": "code",
   "execution_count": 12,
   "metadata": {},
   "outputs": [
    {
     "name": "stdout",
     "output_type": "stream",
     "text": [
      "Initial price: 243.58\n",
      "vols= [0.1467 0.1984]\n",
      "Option price: 19.993\n"
     ]
    }
   ],
   "source": [
    "strike = 250\n",
    "print(f'Initial price: {S0:.2f}')\n",
    "print('vols=', np.round(vols, 4))\n",
    "print(f'Option price: {option_value(0, 1, 1, strike):.3f}')"
   ]
  }
 ],
 "metadata": {
  "kernelspec": {
   "display_name": "venv",
   "language": "python",
   "name": "python3"
  },
  "language_info": {
   "codemirror_mode": {
    "name": "ipython",
    "version": 3
   },
   "file_extension": ".py",
   "mimetype": "text/x-python",
   "name": "python",
   "nbconvert_exporter": "python",
   "pygments_lexer": "ipython3",
   "version": "3.12.6"
  }
 },
 "nbformat": 4,
 "nbformat_minor": 2
}

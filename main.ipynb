{
 "cells": [
  {
   "cell_type": "code",
   "execution_count": null,
   "metadata": {},
   "outputs": [],
   "source": [
    "import yfinance as yf\n",
    "import numpy as np\n",
    "\n",
    "ticker = 'AAPL'\n",
    "\n",
    "start_date = \"2015-01-01\"\n",
    "df = yf.download(\n",
    "    ticker, \n",
    "    interval='1d',\n",
    "    start=start_date,\n",
    "    # period='10y',\n",
    ")\n",
    "df.columns = df.columns.get_level_values(0)\n",
    "df = df[['Close']] # keep only close prices\n",
    "df['return'] = df['Close'].pct_change()\n",
    "\n",
    "df.to_csv('data.csv')"
   ]
  },
  {
   "cell_type": "code",
   "execution_count": null,
   "metadata": {},
   "outputs": [],
   "source": [
    "import numpy as np\n",
    "import pandas as pd\n",
    "\n",
    "data = pd.read_csv('data.csv', index_col = 'Date')"
   ]
  },
  {
   "cell_type": "code",
   "execution_count": null,
   "metadata": {},
   "outputs": [],
   "source": [
    "initial_price = data.loc['2025-01-16', 'Close']\n",
    "\n",
    "cutoff_ratio = np.array([np.exp(-.3), np.exp(-.03), np.exp(.03), np.exp(.3), ])\n",
    "cutoff_price = initial_price * cutoff_ratio"
   ]
  },
  {
   "cell_type": "code",
   "execution_count": null,
   "metadata": {},
   "outputs": [],
   "source": [
    "cutoff_price"
   ]
  },
  {
   "cell_type": "code",
   "execution_count": null,
   "metadata": {},
   "outputs": [],
   "source": [
    "prices_to_run = [ 160, 200, 230, 260, 310 ]"
   ]
  },
  {
   "cell_type": "markdown",
   "metadata": {},
   "source": [
    "## Side: HMM"
   ]
  },
  {
   "cell_type": "code",
   "execution_count": null,
   "metadata": {},
   "outputs": [],
   "source": [
    "import numpy as np\n",
    "import pandas as pd\n",
    "\n",
    "import matplotlib.pyplot as plt\n",
    "\n",
    "from hmmlearn.hmm import GaussianHMM"
   ]
  },
  {
   "cell_type": "code",
   "execution_count": null,
   "metadata": {},
   "outputs": [],
   "source": [
    "data.dropna(inplace=True)\n",
    "\n",
    "X = data['return'].values.reshape(-1, 1)\n",
    "model = GaussianHMM(n_components=2, covariance_type='full', n_iter=1000).fit(X)\n",
    "\n",
    "hidden_states = model.predict(X)\n",
    "hidden_states\n",
    "\n",
    "plt.figure(figsize=(15,6))\n",
    "for state in range(model.n_components):\n",
    "    mask = hidden_states == state\n",
    "    plt.plot(data.index[mask], data['Close'][mask], label=f\"State {state}\")\n",
    "plt.legend()\n",
    "plt.tight_layout()\n",
    "\n",
    "from matplotlib.dates import YearLocator, MonthLocator\n",
    "plt.gca().xaxis.set_major_locator(YearLocator())\n",
    "plt.gca().xaxis.set_minor_locator(MonthLocator())\n",
    "plt.xticks(rotation=45)\n",
    "\n",
    "plt.show() "
   ]
  },
  {
   "cell_type": "code",
   "execution_count": null,
   "metadata": {},
   "outputs": [],
   "source": [
    "# states mean and variances \n",
    "for i in range(model.n_components):\n",
    "    print(f'{i} hidden state:')\n",
    "    print(f'Annualized Mean: {model.means_[i] * 252}')\n",
    "    print(f'Annualized Var: {np.sqrt(np.diag(model.covars_[i]) * 252)}')\n",
    "    print()\n",
    "print(f'Initial state is State {max(range(model.n_components), key=lambda x: model.startprob_[x])}')"
   ]
  },
  {
   "cell_type": "markdown",
   "metadata": {},
   "source": [
    "### HMM experiment ends."
   ]
  },
  {
   "cell_type": "code",
   "execution_count": null,
   "metadata": {},
   "outputs": [],
   "source": [
    "def getReturnVolatility_1(df, state, period=50): \n",
    "    '''For 2 state trinomial lattice'''\n",
    "\n",
    "    if state not in (0, 1):\n",
    "        raise ValueError('The state does not exist.')\n",
    "    \n",
    "    local_df = df.copy()\n",
    "    local_df['state'] = np.where(local_df['return'] >= 0, 0, 1)\n",
    "    local_df['segment'] = pd.qcut(range(len(local_df)), q=period, labels=False)\n",
    "\n",
    "    volatility_per_segment = local_df[local_df['state'] == state].groupby('segment')['return'].var()\n",
    "    weight = pd.Series([2**(-(period-i)) for i in range(period)])\n",
    "    return np.sqrt(volatility_per_segment.dot(weight) * 252)\n",
    "\n",
    "\n",
    "def getReturnVolatility_2(df, state, period=20):\n",
    "    '''For 3-state trinomial lattice'''\n",
    "    if state not in (0, 1, 2):\n",
    "        raise ValueError('The state does not exist.')\n",
    "    \n",
    "    local_df = df.copy()\n",
    "    local_df['state'] = 0\n",
    "    local_df['state'] = local_df['return'].rolling(3).agg(lambda x: 1 if np.all(x >= 0) else (2 if np.all(x < 0) else 0))\n",
    "\n",
    "    local_df['segment'] = pd.qcut(range(len(local_df)), q=period, labels=False)\n",
    "\n",
    "    volatility_per_segment = local_df[local_df['state'] == state].groupby('segment')['return'].var().reindex(range(period))\n",
    "    weight = pd.Series([2**(-(period-i)) for i in range(period)])\n",
    "    assert abs(sum(weight) - 1) <= 1e-6\n",
    "\n",
    "    return np.sqrt(volatility_per_segment.dot(weight) * 252)\n",
    "    "
   ]
  },
  {
   "cell_type": "code",
   "execution_count": null,
   "metadata": {},
   "outputs": [],
   "source": [
    "# vols = [ getReturnVolatility_1(data, i, 100).item() for i in range(2) ]\n",
    "vols = [ getReturnVolatility_2(data, i, 20).item() for i in range(3) ]\n",
    "\n",
    "res = [{'state': i, 'volatility': vols[i]} for i in range(3)]\n",
    "pd.DataFrame(res).to_csv('param_3.csv', index=False)"
   ]
  },
  {
   "cell_type": "markdown",
   "metadata": {},
   "source": [
    "### Phase 2: building matrices"
   ]
  },
  {
   "cell_type": "code",
   "execution_count": null,
   "metadata": {},
   "outputs": [],
   "source": [
    "import numpy as np\n",
    "import pandas as pd\n",
    "from functools import cache"
   ]
  },
  {
   "cell_type": "code",
   "execution_count": null,
   "metadata": {},
   "outputs": [],
   "source": [
    "# generating matrix A\n",
    "def get_markov_transition_prob(delta_t, A, max_iter=50):\n",
    "    res = np.eye(A.shape[0])\n",
    "    prev = np.eye(A.shape[0])\n",
    "    for i in range(max_iter):\n",
    "        prev = prev @ A * delta_t / (i+1)\n",
    "        res += prev\n",
    "    return res\n",
    "\n",
    "def get_risk_neu_prob(P, sigma, delta_t, risk_free_int):\n",
    "    risk_neutral_prob = { i: [-1]*3 for i in range(P.shape[0]) } # [up, mid, down]\n",
    "\n",
    "    for i in range(P.shape[0]):\n",
    "        risk_neutral_prob[i][1] = 1 - (vols[i]/sigma) ** 2\n",
    "        risk_neutral_prob[i][0] = (np.exp(risk_free_int[i]*delta_t)- np.exp(-sigma * np.sqrt(delta_t))- \\\n",
    "                                (1-(vols[i]/sigma)**2)*(1-np.exp(-sigma * np.sqrt(delta_t))))/(np.exp(sigma * np.sqrt(delta_t)) - np.exp(-sigma * np.sqrt(delta_t)))\n",
    "        risk_neutral_prob[i][2] = (np.exp(sigma * np.sqrt(delta_t)) - np.exp(risk_free_int[i]*delta_t)- \\\n",
    "                                (1-(vols[i]/sigma)**2)*(np.exp(sigma * np.sqrt(delta_t))-1))/(np.exp(sigma * np.sqrt(delta_t)) - np.exp(-sigma * np.sqrt(delta_t)))\n",
    "        \n",
    "    return risk_neutral_prob\n",
    "\n",
    "def trinomial_call_value(state, K, P, risk_neutral_prob, risk_free_int, S0, sigma, T, N, american=False):\n",
    "    \"\"\"\n",
    "    V(t,n,j) be the value of the derivative at the nth node at time step t under the jth regime state.\n",
    "    time starts from 0\n",
    "    node index starts from 1 (from bottom)\n",
    "    \"\"\"\n",
    "    if state >= P.shape[0]:\n",
    "        raise Exception('Invalid state')\n",
    "\n",
    "    delta_t = T / N\n",
    "    \n",
    "    @cache\n",
    "    def V(t, n, i):\n",
    "        if t == N:\n",
    "            return max(0, S0*np.exp((n - 1 - N)*sigma*np.sqrt(delta_t))-K)\n",
    "        res = 0\n",
    "        for j in range(P.shape[0]): # regimes\n",
    "            res += P[i, j] * (\n",
    "                risk_neutral_prob[i][0] * V(t+1, n+2, j) +\n",
    "                risk_neutral_prob[i][1] * V(t+1, n+1, j) +\n",
    "                risk_neutral_prob[i][2] * V(t+1, n, j)\n",
    "            )\n",
    "        # number of node = 2t+1\n",
    "        res *= np.exp(-risk_free_int[i]*delta_t)\n",
    "        if american:\n",
    "            intrinsic = max(0, S0*np.exp((n - 1 - t) * sigma * np.sqrt(delta_t)) - K)\n",
    "            res = max(res, intrinsic)\n",
    "        \n",
    "        return res\n",
    "    \n",
    "    return V(0, 1, state)\n",
    "    \n",
    "\n",
    "def trinomial_put_value(state, K, P, risk_neutral_prob, risk_free_int, S0, sigma, T, N, american=False):\n",
    "    if state >= P.shape[0]:\n",
    "        raise Exception('Invalid state')\n",
    "\n",
    "    delta_t = T / N\n",
    "    \n",
    "    @cache\n",
    "    def V(t, n, i):\n",
    "        if t == N:\n",
    "            return max(0, K - S0*np.exp((n - 1 - N)*sigma*np.sqrt(delta_t)))\n",
    "        \n",
    "        res = 0\n",
    "        for j in range(P.shape[0]):  # Iterate over regimes\n",
    "            res += P[i, j] * (\n",
    "                risk_neutral_prob[i][0] * V(t+1, n+2, j) +\n",
    "                risk_neutral_prob[i][1] * V(t+1, n+1, j) +\n",
    "                risk_neutral_prob[i][2] * V(t+1, n, j)\n",
    "            )\n",
    "        \n",
    "        discounted_value = np.exp(-risk_free_int[i] * delta_t) * res\n",
    "        \n",
    "        if american:\n",
    "            intrinsic_value = max(0, K - S0*np.exp((n - 1 - t) * sigma * np.sqrt(delta_t)))\n",
    "            return max(discounted_value, intrinsic_value)\n",
    "        \n",
    "        return discounted_value\n",
    "    \n",
    "    return V(0, 1, state)\n",
    "\n"
   ]
  },
  {
   "cell_type": "code",
   "execution_count": null,
   "metadata": {},
   "outputs": [],
   "source": [
    "T = 1\n",
    "N = 1000\n",
    "S0 = data['Close'].loc['2025-01-16'] # take a close price\n",
    "K = 250\n",
    "risk_free_int = [.04] * 3 # adjust the state numbers\n",
    "sigma = max(vols) + (np.sqrt(1.5)-1) * np.mean(vols) # suggested by the paper\n",
    "# A = np.array([\n",
    "#     [-0.5,  0.5],\n",
    "#     [ 0.5, -0.5],\n",
    "# ])\n",
    "A = np.array([\n",
    "    [-1,  0.5,  0.5],\n",
    "    [ 0.5, -1,  0.5],\n",
    "    [ 0.5,  0.5, -1]\n",
    "])\n",
    "P = get_markov_transition_prob(T/N, A)\n",
    "risk_neutral_prob = get_risk_neu_prob(P, sigma, T/N, risk_free_int)"
   ]
  },
  {
   "cell_type": "code",
   "execution_count": null,
   "metadata": {},
   "outputs": [],
   "source": [
    "result = []\n",
    "\n",
    "for state in range(3):\n",
    "    for is_american in [True, False]:\n",
    "        option_type = \"American\" if is_american else \"European\"\n",
    "        for strike in prices_to_run:\n",
    "            call_price = trinomial_call_value(state, strike, P, risk_neutral_prob, risk_free_int, S0, sigma, 1, 1000, is_american)\n",
    "            put_price = trinomial_put_value(state, strike, P, risk_neutral_prob, risk_free_int, S0, sigma, 1, 1000, is_american)\n",
    "\n",
    "            result.append({\n",
    "                \"State\": state,\n",
    "                \"Type\": option_type,\n",
    "                \"Strike\": strike,\n",
    "                \"Call Price\": call_price,\n",
    "                \"Put Price\": put_price\n",
    "            })\n",
    "\n",
    "df = pd.DataFrame(result)\n",
    "df['moneyness'] = np.log(df['Strike'] / S0)\n",
    "df.to_csv(\"trinomial_result_3_regimes.csv\", index=False)\n"
   ]
  },
  {
   "cell_type": "code",
   "execution_count": null,
   "metadata": {},
   "outputs": [],
   "source": [
    "tmp = pd.read_csv('trinomial_3_regimes.csv')\n",
    "tmp['price/strike'] = initial_price / tmp['Strike']\n",
    "tmp.to_csv('trinomial_3_regimes.csv', index=False)"
   ]
  },
  {
   "cell_type": "markdown",
   "metadata": {},
   "source": [
    "## American Monte Carlo"
   ]
  },
  {
   "cell_type": "code",
   "execution_count": null,
   "metadata": {},
   "outputs": [],
   "source": [
    "import numpy as np\n",
    "\n",
    "class AmericanOptionsLSMC:\n",
    "    \"\"\" Class for American options pricing using Longstaff-Schwartz (2001):\n",
    "    \"Valuing American Options by Simulation: A Simple Least-Squares Approach.\"\n",
    "    Review of Financial Studies, Vol. 14, 113-147.\n",
    "    S0 : float : initial stock/index level\n",
    "    strike : float : strike price\n",
    "    T : float : time to maturity (in year fractions)\n",
    "    M : int : grid or granularity for time (in number of total points)\n",
    "    r : float : constant risk-free short rate\n",
    "    div :    float : dividend yield\n",
    "    sigma :  float : volatility factor in diffusion term \n",
    "    \n",
    "    Unitest(doctest): \n",
    "    >>> AmericanPUT = AmericanOptionsLSMC('put', 36., 40., 1., 50, 0.06, 0.06, 0.2, 10000)\n",
    "    >>> AmericanPUT.price\n",
    "    4.4731177017712209\n",
    "    \"\"\"\n",
    "\n",
    "    def __init__(self, option_type, S0, strike, T, M, r, div, sigma, simulations):\n",
    "        try:\n",
    "            self.option_type = option_type\n",
    "            assert isinstance(option_type, str)\n",
    "            self.S0 = float(S0)\n",
    "            self.strike = float(strike)\n",
    "            assert T > 0\n",
    "            self.T = float(T)\n",
    "            assert M > 0\n",
    "            self.M = int(M)\n",
    "            assert r >= 0\n",
    "            self.r = float(r)\n",
    "            assert div >= 0\n",
    "            self.div = float(div)\n",
    "            assert sigma > 0\n",
    "            self.sigma = float(sigma)\n",
    "            assert simulations > 0\n",
    "            self.simulations = int(simulations)\n",
    "        except ValueError:\n",
    "            print('Error passing Options parameters')\n",
    "\n",
    "\n",
    "        if option_type != 'call' and option_type != 'put':\n",
    "            raise ValueError(\"Error: option type not valid. Enter 'call' or 'put'\")\n",
    "        if S0 < 0 or strike < 0 or T <= 0 or r < 0 or div < 0 or sigma < 0:\n",
    "            raise ValueError('Error: Negative inputs not allowed')\n",
    "\n",
    "        self.time_unit = self.T / float(self.M)\n",
    "        self.discount = np.exp(-self.r * self.time_unit)\n",
    "\n",
    "    @property\n",
    "    def MCprice_matrix(self, seed = 123):\n",
    "        \"\"\" Returns MC price matrix rows: time columns: price-path simulation \"\"\"\n",
    "        np.random.seed(seed)\n",
    "        MCprice_matrix = np.zeros((self.M + 1, self.simulations), dtype=np.float64)\n",
    "        MCprice_matrix[0,:] = self.S0\n",
    "        for t in range(1, self.M + 1):\n",
    "            brownian = np.random.standard_normal( self.simulations // 2)\n",
    "            brownian = np.concatenate((brownian, -brownian))\n",
    "            MCprice_matrix[t, :] = (MCprice_matrix[t - 1, :]\n",
    "                                  * np.exp((self.r - self.sigma ** 2 / 2.) * self.time_unit\n",
    "                                  + self.sigma * brownian * np.sqrt(self.time_unit)))\n",
    "        return MCprice_matrix\n",
    "\n",
    "    @property\n",
    "    def MCpayoff(self):\n",
    "        \"\"\"Returns the inner-value of American Option\"\"\"\n",
    "        if self.option_type == 'call':\n",
    "            payoff = np.maximum(self.MCprice_matrix - self.strike,\n",
    "                           np.zeros((self.M + 1, self.simulations),dtype=np.float64))\n",
    "        else:\n",
    "            payoff = np.maximum(self.strike - self.MCprice_matrix,\n",
    "                            np.zeros((self.M + 1, self.simulations),\n",
    "                            dtype=np.float64))\n",
    "        return payoff\n",
    "\n",
    "    @property\n",
    "    def value_vector(self):\n",
    "        value_matrix = np.zeros_like(self.MCpayoff)\n",
    "        value_matrix[-1, :] = self.MCpayoff[-1, :]\n",
    "        for t in range(self.M - 1, 0 , -1):\n",
    "            regression = np.polyfit(self.MCprice_matrix[t, :], value_matrix[t + 1, :] * self.discount, 2)\n",
    "            continuation_value = np.polyval(regression, self.MCprice_matrix[t, :])\n",
    "            value_matrix[t, :] = np.where(self.MCpayoff[t, :] > continuation_value,\n",
    "                                          self.MCpayoff[t, :],\n",
    "                                          value_matrix[t + 1, :] * self.discount)\n",
    "\n",
    "        return value_matrix[1,:] * self.discount\n",
    "\n",
    "\n",
    "    @property\n",
    "    def price(self): return np.sum(self.value_vector) / float(self.simulations)"
   ]
  },
  {
   "cell_type": "code",
   "execution_count": null,
   "metadata": {},
   "outputs": [],
   "source": [
    "N = 500\n",
    "data = []\n",
    "# risk free interest fixed at 4%\n",
    "for state in range(3):\n",
    "    for strike in range(240, 281, 10):\n",
    "        call_price = AmericanOptionsLSMC('call', S0, strike, 1, N, 0.04, 0, vols[state], 10000).price\n",
    "        put_price = AmericanOptionsLSMC('put', S0, strike, 1, N, 0.04, 0, vols[state], 10000).price\n",
    "\n",
    "        # Append a dictionary with results\n",
    "        data.append({\n",
    "            \"State\": state,\n",
    "            \"Type\": 'American',\n",
    "            \"Strike\": strike,\n",
    "            \"Call Price\": call_price,\n",
    "            \"Put Price\": put_price\n",
    "        })\n",
    "\n",
    "\n",
    "# df.to_csv(\"MC_3states.csv\", index=False, mode='a', header=False)\n",
    "pd.DataFrame(data).to_csv('tmp.csv', index=False)"
   ]
  },
  {
   "cell_type": "code",
   "execution_count": null,
   "metadata": {},
   "outputs": [],
   "source": [
    "# Standard Monte Carlo for European Options\n",
    "# https://www.kaggle.com/code/ypark4857/monte-carlo-simulation-of-european-option-pricing\n",
    "\n",
    "import numpy as np\n",
    "\n",
    "rng = np.random.default_rng(10000)\n",
    "\n",
    "def mc_european_option(S, K, T, r, sigma, N, type = 'call'):\n",
    "    \n",
    "    # Initial Asset Pricie\n",
    "    S_init = S\n",
    "    \n",
    "    # X follows a standard normal distribution\n",
    "    X = rng.normal(0, 1, N)\n",
    "    \n",
    "    # The Distribution of asset prices at the Expiration of the Option\n",
    "    ST = S_init * np.exp((r-0.5*sigma**2)*T + sigma*np.sqrt(T)*X)\n",
    "    \n",
    "    # The Discounted payoff of European call option at expiration\n",
    "    if type == 'call':\n",
    "        fST = np.exp(-r*T) * np.maximum(ST-K, 0)\n",
    "    elif type == 'put':\n",
    "        fST = np.exp(-r*T) * np.maximum(K-ST, 0)\n",
    "\n",
    "    # The option value by taking the expected discounted payoff\n",
    "    price = np.mean(fST)\n",
    "\n",
    "    return price"
   ]
  },
  {
   "cell_type": "code",
   "execution_count": null,
   "metadata": {},
   "outputs": [],
   "source": [
    "data = []\n",
    "\n",
    "for state in range(3):\n",
    "    for strike in range(240, 281, 10):\n",
    "        call_price = mc_european_option(S0, strike, 1, 0.04, vols[state], 10000, 'call')\n",
    "        put_price = mc_european_option(S0, strike, 1, 0.04, vols[state], 10000, 'put')\n",
    "\n",
    "        # Append a dictionary with results\n",
    "        data.append({\n",
    "            \"State\": state,\n",
    "            \"Type\": 'European',\n",
    "            \"Strike\": strike,\n",
    "            \"Call Price\": call_price.item(),\n",
    "            \"Put Price\": put_price.item()\n",
    "        })\n",
    "\n",
    "df = pd.DataFrame(data)\n",
    "df.to_csv('MC_3states.csv', mode='a', index=False, header=False)"
   ]
  },
  {
   "cell_type": "markdown",
   "metadata": {},
   "source": [
    "#### For MC, American options (priced using LSMC) are cheaper than European options due possbily to poor fitting (Therefore may not be good source)."
   ]
  },
  {
   "cell_type": "markdown",
   "metadata": {},
   "source": [
    "## Result post-processing (before review)"
   ]
  },
  {
   "cell_type": "code",
   "execution_count": null,
   "metadata": {},
   "outputs": [],
   "source": [
    "price_lsmc = pd.read_csv('MC_3states.csv')\n",
    "price_tri = pd.read_csv('trinomial_result_2_regimes.csv')\n",
    "\n",
    "price_merge = pd.merge(price_lsmc, price_tri, on=['State', 'Strike', 'Type'], suffixes=('_MC', '_Trinomial'), how='right')\n",
    "price_merge.round(5).to_csv('combined_result_2_new.csv', index=False)"
   ]
  },
  {
   "cell_type": "code",
   "execution_count": null,
   "metadata": {},
   "outputs": [],
   "source": [
    "# With real market data\n",
    "\n",
    "def combine(filename: str, output: str) -> None:\n",
    "    import pandas as pd\n",
    "    df = pd.read_csv(filename)\n",
    "    market = pd.read_csv('market_price.csv')\n",
    "    res = pd.merge(df, market, how='left', on=['Type', 'Strike'])\n",
    "\n",
    "    res.to_csv(output, index=False)\n",
    "\n",
    "combine('combined_result_2.csv', 'res2.csv')\n",
    "combine('combined_result_3.csv', 'res3.csv')"
   ]
  },
  {
   "cell_type": "code",
   "execution_count": null,
   "metadata": {},
   "outputs": [],
   "source": [
    "import pandas as pd\n",
    "pd.read_csv('res3.csv')"
   ]
  },
  {
   "cell_type": "markdown",
   "metadata": {},
   "source": [
    "### Result processing with new strikes"
   ]
  },
  {
   "cell_type": "code",
   "execution_count": null,
   "metadata": {},
   "outputs": [],
   "source": [
    "import pandas as pd\n",
    "market = pd.read_csv('aapl_op.csv')\n",
    "res2 = pd.read_csv('trinomial_2_regimes.csv')\n",
    "res3 = pd.read_csv('trinomial_3_regimes.csv')\n",
    "\n",
    "market.rename(columns={'call': 'call_market', 'put': 'put_market'}, inplace=True)\n",
    "res2.rename(columns={'call': 'call_tri', 'put': 'put_tri'}, inplace=True)\n",
    "res3.rename(columns={'call': 'call_tri', 'put': 'put_tri'}, inplace=True)"
   ]
  },
  {
   "cell_type": "code",
   "execution_count": null,
   "metadata": {},
   "outputs": [],
   "source": [
    "market.columns"
   ]
  },
  {
   "cell_type": "code",
   "execution_count": null,
   "metadata": {},
   "outputs": [],
   "source": [
    "pd.merge(market, res2, on='Strike', how='right').rename(columns={'State': 'init_state'}).round(4).to_csv('combined_2.csv', index=False)\n",
    "pd.merge(market, res3, on='Strike', how='right').rename(columns={'State': 'init_state'}).round(4).to_csv('combined_3.csv', index=False)"
   ]
  },
  {
   "cell_type": "code",
   "execution_count": null,
   "metadata": {},
   "outputs": [],
   "source": [
    "pd.read_csv('combined_2.csv')"
   ]
  }
 ],
 "metadata": {
  "kernelspec": {
   "display_name": "venv",
   "language": "python",
   "name": "python3"
  },
  "language_info": {
   "codemirror_mode": {
    "name": "ipython",
    "version": 3
   },
   "file_extension": ".py",
   "mimetype": "text/x-python",
   "name": "python",
   "nbconvert_exporter": "python",
   "pygments_lexer": "ipython3",
   "version": "3.12.6"
  }
 },
 "nbformat": 4,
 "nbformat_minor": 2
}
